{
 "cells": [
  {
   "cell_type": "code",
   "execution_count": 1,
   "id": "9d6a4c1b",
   "metadata": {},
   "outputs": [
    {
     "name": "stdout",
     "output_type": "stream",
     "text": [
      "Programmlaufzeit: 0.0 s\n"
     ]
    }
   ],
   "source": [
    "import pyomo.environ as pyo\n",
    "import time\n",
    "\n",
    "# Speichern Sie die aktuelle Zeit vor der Ausführung des Codes\n",
    "start_time = time.time()\n",
    "\n",
    "# Model creation\n",
    "model = pyo.ConcreteModel()\n",
    "\n",
    "# Creating a list of variable names\n",
    "drivers=[\"VER\",\"PER\",\"HAM\",\"ALO\",\"LEC\",\"NOR\",\"SAI\",\"RUS\",\"PIA\",\"STR\",\"GAS\",\"OCO\",\"ALB\",\"BOT\",\"HUL\",\"RIC\",\"ZHO\",\"MAG\",\"SAR\"]\n",
    "teams=[\"RED\",\"MER\",\"FER\",\"MCL\",\"AST\",\"ALP\",\"ALT\",\"ALF\",\"HAA\",\"WIL\"]\n",
    "variable_names = drivers+teams\n",
    "#2023 avg\n",
    "driver_score_avg = {\n",
    "    \"VER\": 46.1,\"PER\": 26.3,\"HAM\": 23.0,\"NOR\": 19.9,\"ALO\": 18.3,\"SAI\": 17.9,\"RUS\": 17.5,\"LEC\": 15.2,\"PIA\": 12.7,\"GAS\": 10.5,\n",
    "    \"STR\": 10.5,\"TSU\": 7.3,\"ZHO\": 6.1,\"ALB\": 5.7,\"OCO\": 5.5,\"RIC\": 4.1,\"MAG\": 4.0,\"HUL\": 2.7,\"BOT\": 2.0,\"SAR\": 0.1\n",
    "}\n",
    "team_score_avg = {\n",
    "    \"RED\": 84.0,\"MER\": 48.2,\"FER\": 45.8,\"MCL\": 40.9,\"AST\": 34.4,\"ALP\": 21.2,\"ALT\": 14.2,\"ALF\": 10.1,\"HAA\": 9.8,\"WIL\": 7.8\n",
    "}\n",
    "#bet at home quota Bahrain\n",
    "driver_score_quota = {\n",
    "    \"VER\": 2.8, \"PER\": 2.0, \"HAM\": 1.7, \"NOR\": 1.7, \"ALO\": 1.1, \"SAI\": 2.2, \"RUS\": 1.7, \"LEC\": 2.5, \"PIA\": 1.1, \"GAS\": 0.5,\n",
    "    \"STR\": 0.6, \"TSU\": 0.6, \"ZHO\": 0.3, \"ALB\": 0.6, \"OCO\": 0.5, \"RIC\": 0.6, \"MAG\": 0.3, \"HUL\": 0.3, \"BOT\": 0.3, \"SAR\": 0.3\n",
    "}\n",
    "team_score_quota = {\n",
    "    \"RED\": 5.6, \"MER\": 4.3, \"FER\": 4.0, \"MCL\": 3.3, \"AST\": 3.8, \"ALP\": 4.5, \"ALT\": 4.9, \"ALF\": 4.2, \"HAA\": 1.9, \"WIL\": 1.2\n",
    "}\n",
    "#quota with a adjustment for linearisation\n",
    "driver_score_adj_quota = {\n",
    "    \"VER\": 42.1, \"PER\": 29.3, \"HAM\": 24.2, \"NOR\": 24.2, \"ALO\": 13.5, \"SAI\": 31.5, \"RUS\": 24.2, \"LEC\": 36.9, \"PIA\": 14.4, \"GAS\": 3.2,\n",
    "    \"STR\": 4.4, \"TSU\": 4.4, \"ZHO\": 0.8, \"ALB\": 4.4, \"OCO\": 3.2, \"RIC\": 4.4, \"MAG\": 0.0, \"HUL\": 0.8, \"BOT\": 0.8, \"SAR\": 0.0\n",
    "}\n",
    "team_score_adj_quota = {\n",
    "    \"RED\": 82.7, \"MER\": 56.0, \"FER\": 79.3, \"MCL\": 44.7, \"AST\": 20.7, \"ALP\": 7.4, \"ALT\": 10.2, \"ALF\": 1.8, \"HAA\": 0.9, \"WIL\": 5.1\n",
    "}\n",
    "# Own intuition\n",
    "driver_score_intuition = {\n",
    "    \"VER\": 45.0, \"PER\": 22.0, \"HAM\": 22.0, \"NOR\": 22.0, \"ALO\": 20.0, \"SAI\": 22.0, \"RUS\": 18.0, \"LEC\": 22.0, \"PIA\": 18.0, \"GAS\": 7.0,\n",
    "    \"STR\": 10.0, \"TSU\": 8.0, \"ZHO\": 6.0, \"ALB\": 7.0, \"OCO\": 2.0, \"RIC\": 8.0, \"MAG\": 3.0, \"HUL\": 2.0, \"BOT\": 2.0, \"SAR\": 1.5\n",
    "}\n",
    "team_score_intuition = {\n",
    "    \"RED\": 84.0, \"FER\": 48.2, \"MCL\": 45.8, \"MER\": 40.9, \"AST\": 34.4, \"ALP\": 21.2, \"ALT\": 14.2, \"WIL\": 10.1, \"ALF\": 9.8, \"HAA\": 7.8\n",
    "}\n",
    "#Team adjusted by Palmer analysis\n",
    "driver_score_Palmer = {\n",
    "    \"VER\": 46.1, \"PER\": 26.3, \"HAM\": 19.3, \"NOR\": 22.4, \"ALO\": 18.3, \"SAI\": 19.1, \"RUS\": 13.8, \"LEC\": 16.4, \"PIA\": 15.1, \"GAS\": 6.9,\n",
    "    \"STR\": 10.5, \"TSU\": 10.8, \"ZHO\": 6.0, \"ALB\": 6.9, \"OCO\": 1.9, \"RIC\": 7.6, \"MAG\": 3.0, \"HUL\": 1.7, \"BOT\": 1.8, \"SAR\": 1.3\n",
    "}\n",
    "team_score_Palmer = {\n",
    "    \"RED\": 84.0, \"FER\": 48.2, \"MCL\": 45.8, \"MER\": 40.9, \"AST\": 34.4, \"ALP\": 21.2, \"ALT\": 14.2, \"WIL\": 10.1, \"ALF\": 9.8, \"HAA\": 7.8\n",
    "}\n",
    "#avg without negative scores\n",
    "driver_score_noneg = {\n",
    "    \"VER\": 46.1, \"PER\": 31.0, \"HAM\": 24.2, \"NOR\": 23.4, \"ALO\": 22.0, \"SAI\": 20.5, \"RUS\": 20.8, \"LEC\": 20.8, \"PIA\": 16.4, \"GAS\": 12.4,\n",
    "    \"STR\": 14.0, \"TSU\": 11.0, \"ZHO\": 8.8, \"ALB\": 9.7, \"OCO\": 11.3, \"RIC\": 6.1, \"MAG\": 7.1, \"HUL\": 4.9, \"BOT\": 5.6, \"SAR\": 4.5\n",
    "}\n",
    "team_score_noneg = {\n",
    "    \"RED\": 84.0, \"MER\": 48.2, \"FER\": 45.8, \"MCL\": 40.9, \"AST\": 34.4, \"ALP\": 21.2, \"ALT\": 14.2, \"ALF\": 10.1, \"HAA\": 9.8, \"WIL\": 7.8\n",
    "}\n",
    "# avg - standard deviation\n",
    "driver_score_low = {\n",
    "    \"VER\": 35.41, \"PER\": 8.08, \"HAM\": 12.50, \"NOR\": 1.22, \"ALO\": 1.54, \"SAI\": 3.82, \"RUS\": 4.39, \"LEC\": 0.08, \"PIA\": -4.17,\n",
    "    \"GAS\": -0.84, \"STR\": -2.62, \"TSU\": -4.87, \"ZHO\": -2.49, \"ALB\": -5.83, \"OCO\": -10.62, \"RIC\": -3.57, \"MAG\": -6.55, \"HUL\": -4.53,\n",
    "    \"BOT\": -7.77, \"SAR\": -12.22\n",
    "}\n",
    "team_score_low = {\n",
    "    \"RED\": 65.14, \"MER\": 34.92, \"FER\": 26.38, \"MCL\": 13.14, \"AST\": 11.29, \"ALP\": -0.84, \"ALT\": -1.79, \"ALF\": -5.11, \"HAA\": -2.42, \"WIL\": -7.82\n",
    "}\n",
    "# score 2023 Bahrain result\n",
    "driver_score_BAH = {\n",
    "    \"VER\": 35,\"PER\": 28,\"HAM\": 19,\"NOR\": -1,\"ALO\": 39,\"SAI\": 19,\"RUS\": 16,\"LEC\": -11,\"PIA\": -16,\"GAS\": 20,\"STR\": 17,\"TSU\": 8,\n",
    "    \"ZHO\": 15,\"ALB\": 13,\"OCO\": -17,\"RIC\": 8,\"MAG\": 8,\"HUL\": -1,\"BOT\": 13,\"SAR\": 11\n",
    "}\n",
    "team_score_BAH = {\n",
    "    \"RED\": 78,\"MER\": 45,\"FER\": 31,\"MCL\": -16,\"AST\": 56,\"ALP\": 8,\"ALT\": 17,\"ALF\": 31,\"HAA\": 12,\"WIL\": 25\n",
    "}\n",
    "#Cost before Bahrain\n",
    "driver_cost01={\n",
    "\"VER\":30,\"PER\":20.8,\"HAM\":19.3,\"NOR\":23,\"ALO\":15.8,\"SAI\":18.5,\"RUS\":18.9,\"LEC\":19.1,\"PIA\":19,\"GAS\":7.8,\"STR\":10.7,\"TSU\":8,\n",
    "    \"ZHO\":6.6,\"ALB\":7,\"OCO\":7.8,\"RIC\":9,\"MAG\":6.2,\"HUL\":6.4,\"BOT\":6.4,\"SAR\":5.5}\n",
    "team_cost01={\n",
    "\"RED\":27.9,\"MER\":20.1,\"FER\":19.3,\"MCL\":23.2,\"AST\":13.6,\"ALP\":8.4,\"ALT\":8.5,\"ALF\":6.6,\"HAA\":6.3,\"WIL\":6.3\n",
    "}\n",
    "\n",
    "#Deciding what score should be used\n",
    "driver_score=driver_score_adj_quota\n",
    "team_score=team_score_adj_quota\n",
    "driver_cost=driver_cost01\n",
    "team_cost=team_cost01\n",
    "\n",
    "# Creating the pyo.Set with the generated variable names\n",
    "model.A = pyo.Set(initialize=variable_names)\n",
    "\n",
    "# Drivers to use\n",
    "model.x = pyo.Var(model.A, domain=pyo.Binary)\n",
    "\n",
    "# Constraint\n",
    "model.max_drivers = pyo.Constraint(expr= sum(model.x[i] for i in drivers)==5 )\n",
    "model.max_teams = pyo.Constraint(expr= sum(model.x[i] for i in teams)==2 )\n",
    "\n",
    "model.cost_drivers = pyo.Constraint(expr= sum(model.x[i]*driver_cost[i] for i in drivers)+\\\n",
    "                                    sum(model.x[i]*team_cost[i] for i in teams) <=100 )\n",
    "\n",
    "# Finde den Fahrer mit dem höchsten driver_score unter den ausgewählten Fahrern\n",
    "selected_max_driver = max(drivers, key=lambda i: driver_score[i] if model.x[i].value == 1 else float('-inf'))\n",
    "\n",
    "# Ziel(Objektiv)Funktion\n",
    "model.objective = pyo.Objective(\n",
    "    expr=(\n",
    "        sum(model.x[i] * driver_score[i] * (2 if i == selected_max_driver else 1) for i in drivers) +\n",
    "        sum(model.x[i] * team_score[i] for i in teams)\n",
    "    ),\n",
    "    sense=pyo.maximize\n",
    ")\n",
    "\n",
    "# Speichern Sie die aktuelle Zeit nach der Ausführung des Codes\n",
    "end_time = time.time()\n",
    "# Berechnen Sie die Differenz zwischen Start- und Endzeit, um die Ausführungszeit zu erhalten\n",
    "execution_time = end_time - start_time\n",
    "# Ausgabe der Ausführungszeit\n",
    "print(f\"Programmlaufzeit: {execution_time} s\")"
   ]
  },
  {
   "cell_type": "code",
   "execution_count": 2,
   "id": "8fa3be9b",
   "metadata": {},
   "outputs": [
    {
     "name": "stdout",
     "output_type": "stream",
     "text": [
      "Programmlaufzeit: 3.2138407230377197 s\n"
     ]
    }
   ],
   "source": [
    "import os\n",
    "# Speichern Sie die aktuelle Zeit vor der Ausführung des Codes\n",
    "start_time = time.time()\n",
    "\n",
    "os.environ['NEOS_EMAIL'] = 'our.email@stud.tu-darmstadt.de'\n",
    "solver_manager = pyo.SolverManagerFactory('neos')\n",
    "results = solver_manager.solve(model, opt='cplex', tee=True)\n",
    "\n",
    "# Speichern Sie die aktuelle Zeit nach der Ausführung des Codes\n",
    "end_time = time.time()\n",
    "# Berechnen Sie die Differenz zwischen Start- und Endzeit, um die Ausführungszeit zu erhalten\n",
    "execution_time = end_time - start_time\n",
    "# Ausgabe der Ausführungszeit\n",
    "print(f\"Programmlaufzeit: {execution_time} s\")"
   ]
  },
  {
   "cell_type": "code",
   "execution_count": 3,
   "id": "22ba5a91",
   "metadata": {},
   "outputs": [],
   "source": [
    "# results"
   ]
  },
  {
   "cell_type": "code",
   "execution_count": 4,
   "id": "6dd4fdd1",
   "metadata": {},
   "outputs": [],
   "source": [
    " #model.x.pprint()"
   ]
  },
  {
   "cell_type": "code",
   "execution_count": 5,
   "id": "c4d7fd80",
   "metadata": {
    "scrolled": true
   },
   "outputs": [
    {
     "name": "stdout",
     "output_type": "stream",
     "text": [
      "On basis of the given parameters you should pick the following drivers and teams:\n",
      "VER\n",
      "GAS\n",
      "ALB\n",
      "HUL\n",
      "RIC\n",
      "MER\n",
      "FER\n",
      "Programmlaufzeit: 0.0 s\n"
     ]
    }
   ],
   "source": [
    "# Speichern Sie die aktuelle Zeit vor der Ausführung des Codes\n",
    "start_time = time.time()\n",
    "\n",
    "print(\"On basis of the given parameters you should pick the following drivers and teams:\")\n",
    "for i in variable_names: \n",
    "    if model.x[i].value==1:\n",
    "        print(i)\n",
    "        \n",
    "# Speichern Sie die aktuelle Zeit nach der Ausführung des Codes\n",
    "end_time = time.time()\n",
    "# Berechnen Sie die Differenz zwischen Start- und Endzeit, um die Ausführungszeit zu erhalten\n",
    "execution_time = end_time - start_time\n",
    "# Ausgabe der Ausführungszeit\n",
    "print(f\"Programmlaufzeit: {execution_time} s\")"
   ]
  }
 ],
 "metadata": {
  "kernelspec": {
   "display_name": "Python 3 (ipykernel)",
   "language": "python",
   "name": "python3"
  },
  "language_info": {
   "codemirror_mode": {
    "name": "ipython",
    "version": 3
   },
   "file_extension": ".py",
   "mimetype": "text/x-python",
   "name": "python",
   "nbconvert_exporter": "python",
   "pygments_lexer": "ipython3",
   "version": "3.9.12"
  }
 },
 "nbformat": 4,
 "nbformat_minor": 5
}
